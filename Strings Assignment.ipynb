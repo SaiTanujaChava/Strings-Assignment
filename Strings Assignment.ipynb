{
 "cells": [
  {
   "cell_type": "code",
   "execution_count": 3,
   "metadata": {},
   "outputs": [
    {
     "name": "stdout",
     "output_type": "stream",
     "text": [
      "Enter a string:tanuja chava\n",
      "avahc ajunat\n"
     ]
    }
   ],
   "source": [
    "#Write a program to reverse the given string\n",
    "s=input(\"Enter a string:\")\n",
    "print(s[::-1])"
   ]
  },
  {
   "cell_type": "code",
   "execution_count": 7,
   "metadata": {},
   "outputs": [
    {
     "name": "stdout",
     "output_type": "stream",
     "text": [
      "Enter a string:sai tanuja chava\n",
      "chava tanuja sai\n"
     ]
    }
   ],
   "source": [
    "#Program to reverse the order of words\n",
    "s=input(\"Enter a string:\")\n",
    "s1=s.split()\n",
    "s1.reverse()\n",
    "s2=\" \".join(s1)\n",
    "print(s2)"
   ]
  },
  {
   "cell_type": "code",
   "execution_count": 8,
   "metadata": {},
   "outputs": [
    {
     "name": "stdout",
     "output_type": "stream",
     "text": [
      "Enter a string:hello tanuja\n",
      "olleh ajunat\n"
     ]
    }
   ],
   "source": [
    "#Program to reverse the internal content of each word\n",
    "s=input(\"Enter a string:\")\n",
    "s1=s.split()\n",
    "s1.reverse()\n",
    "s2=\" \".join(s1)\n",
    "print(s2[::-1])"
   ]
  },
  {
   "cell_type": "code",
   "execution_count": 13,
   "metadata": {},
   "outputs": [
    {
     "name": "stdout",
     "output_type": "stream",
     "text": [
      "Enter a string:tanuja\n",
      "Odd position characters: tnj\n",
      "Even position characters: aua\n"
     ]
    }
   ],
   "source": [
    "#Write a program to print characters at odd position and even position for the given string\n",
    "s=input(\"Enter a string:\")\n",
    "print(\"Odd position characters:\",s[0::2])\n",
    "print(\"Even position characters:\",s[1::2])"
   ]
  },
  {
   "cell_type": "code",
   "execution_count": 54,
   "metadata": {},
   "outputs": [
    {
     "name": "stdout",
     "output_type": "stream",
     "text": [
      "tanuja\n"
     ]
    }
   ],
   "source": [
    "#Program to merge characters of 2 strings into single string by taking characters alternatively\n",
    "s1=\"tnj\"\n",
    "s2=\"aua\"\n",
    "s=\"\".join([s1[i]+s2[i] for i in range(len(s1))])+s2[len(s1):]\n",
    "print(s)"
   ]
  },
  {
   "cell_type": "code",
   "execution_count": null,
   "metadata": {},
   "outputs": [],
   "source": []
  }
 ],
 "metadata": {
  "kernelspec": {
   "display_name": "Python 3",
   "language": "python",
   "name": "python3"
  },
  "language_info": {
   "codemirror_mode": {
    "name": "ipython",
    "version": 3
   },
   "file_extension": ".py",
   "mimetype": "text/x-python",
   "name": "python",
   "nbconvert_exporter": "python",
   "pygments_lexer": "ipython3",
   "version": "3.8.3"
  }
 },
 "nbformat": 4,
 "nbformat_minor": 4
}
